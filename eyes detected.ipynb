{
 "cells": [
  {
   "cell_type": "code",
   "execution_count": 1,
   "id": "d554ecac",
   "metadata": {},
   "outputs": [
    {
     "name": "stdout",
     "output_type": "stream",
     "text": [
      "Requirement already satisfied: opencv-python in d:\\anaconda\\lib\\site-packages (4.9.0.80)\n",
      "Requirement already satisfied: numpy>=1.21.2 in d:\\anaconda\\lib\\site-packages (from opencv-python) (1.26.4)\n",
      "Note: you may need to restart the kernel to use updated packages.\n"
     ]
    }
   ],
   "source": [
    "pip install opencv-python"
   ]
  },
  {
   "cell_type": "code",
   "execution_count": 2,
   "id": "78386e9c",
   "metadata": {},
   "outputs": [
    {
     "name": "stdout",
     "output_type": "stream",
     "text": [
      "Requirement already satisfied: pygame in d:\\anaconda\\lib\\site-packages (2.6.1)Note: you may need to restart the kernel to use updated packages.\n",
      "\n"
     ]
    }
   ],
   "source": [
    "pip install pygame"
   ]
  },
  {
   "cell_type": "code",
   "execution_count": 3,
   "id": "82ae6599",
   "metadata": {},
   "outputs": [
    {
     "name": "stdout",
     "output_type": "stream",
     "text": [
      "pygame 2.6.1 (SDL 2.28.4, Python 3.11.5)\n",
      "Hello from the pygame community. https://www.pygame.org/contribute.html\n"
     ]
    }
   ],
   "source": [
    "import cv2\n",
    "import pygame\n",
    "import time\n",
    "\n",
    "# Initialiser pygame pour le son\n",
    "pygame.mixer.init()\n",
    "\n",
    "# Charger le fichier audio pour l'alarme\n",
    "alarm_sound = pygame.mixer.Sound(r\"D:\\Attention_Beep.wav\")\n",
    "\n",
    "# Charger les classificateurs Haar pour les visages et les yeux\n",
    "face_cascade = cv2.CascadeClassifier(cv2.data.haarcascades + 'haarcascade_frontalface_default.xml')\n",
    "eye_cascade = cv2.CascadeClassifier(cv2.data.haarcascades + 'haarcascade_eye.xml')\n",
    "\n",
    "# Démarrer la capture vidéo\n",
    "cap = cv2.VideoCapture(0)\n",
    "\n",
    "# Variables pour la gestion du temps\n",
    "eyes_closed_start_time = None\n",
    "alarm_played = False\n",
    "\n",
    "while True:\n",
    "    ret, frame = cap.read()\n",
    "    if not ret:\n",
    "        break\n",
    "\n",
    "    # Convertir l'image en niveaux de gris\n",
    "    gray = cv2.cvtColor(frame, cv2.COLOR_BGR2GRAY)\n",
    "\n",
    "    # Détecter les visages dans l'image\n",
    "    faces = face_cascade.detectMultiScale(gray, scaleFactor=1.1, minNeighbors=5, minSize=(30, 30))\n",
    "\n",
    "    for (x, y, w, h) in faces:\n",
    "        # Dessiner un rectangle autour du visage\n",
    "        cv2.rectangle(frame, (x, y), (x + w, y + h), (255, 0, 0), 2)\n",
    "\n",
    "        # Région d'intérêt (ROI) pour les yeux dans le visage détecté\n",
    "        roi_gray = gray[y:y + h, x:x + w]\n",
    "        roi_color = frame[y:y + h, x:x + w]\n",
    "\n",
    "        # Détecter les yeux dans le ROI du visage\n",
    "        eyes = eye_cascade.detectMultiScale(roi_gray)\n",
    "        if len(eyes) == 0:\n",
    "            # Si aucun œil n'est détecté, cela signifie que les yeux sont fermés\n",
    "            cv2.putText(frame, \"Eyes Closed\", (x, y - 10), cv2.FONT_HERSHEY_SIMPLEX, 0.9, (0, 0, 255), 2)\n",
    "            \n",
    "            # Si c'est la première fois que les yeux sont fermés, commencer le timer\n",
    "            if eyes_closed_start_time is None:\n",
    "                eyes_closed_start_time = time.time()\n",
    "            \n",
    "            # Vérifier si les yeux sont fermés depuis plus de 2 secondes\n",
    "            elif time.time() - eyes_closed_start_time >= 2:\n",
    "                # Si plus de 2 secondes se sont écoulées, jouer l'alarme si elle n'a pas été jouée\n",
    "                if not alarm_played:\n",
    "                    alarm_sound.play()\n",
    "                    alarm_played = True\n",
    "\n",
    "        else:\n",
    "            # Si des yeux sont détectés, cela signifie qu'ils sont ouverts\n",
    "            cv2.putText(frame, \"Eyes Open\", (x, y - 10), cv2.FONT_HERSHEY_SIMPLEX, 0.9, (0, 255, 0), 2)\n",
    "            \n",
    "            # Réinitialiser le timer lorsque les yeux sont ouverts\n",
    "            eyes_closed_start_time = None\n",
    "            alarm_played = False\n",
    "\n",
    "        # Dessiner un rectangle autour des yeux détectés\n",
    "        for (ex, ey, ew, eh) in eyes:\n",
    "            cv2.rectangle(roi_color, (ex, ey), (ex + ew, ey + eh), (0, 255, 0), 2)\n",
    "\n",
    "    # Afficher la fenêtre avec les résultats\n",
    "    cv2.imshow('Eye Detection', frame)\n",
    "\n",
    "    # Quitter la boucle si 'q' est pressé\n",
    "    if cv2.waitKey(1) & 0xFF == ord('q'):\n",
    "        break\n",
    "\n",
    "# Libérer la capture et fermer les fenêtres\n",
    "cap.release()\n",
    "cv2.destroyAllWindows()\n"
   ]
  },
  {
   "cell_type": "code",
   "execution_count": null,
   "id": "ac72a884",
   "metadata": {},
   "outputs": [],
   "source": []
  }
 ],
 "metadata": {
  "kernelspec": {
   "display_name": "Python 3 (ipykernel)",
   "language": "python",
   "name": "python3"
  },
  "language_info": {
   "codemirror_mode": {
    "name": "ipython",
    "version": 3
   },
   "file_extension": ".py",
   "mimetype": "text/x-python",
   "name": "python",
   "nbconvert_exporter": "python",
   "pygments_lexer": "ipython3",
   "version": "3.11.5"
  }
 },
 "nbformat": 4,
 "nbformat_minor": 5
}
